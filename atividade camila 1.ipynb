{
 "cells": [
  {
   "cell_type": "code",
   "execution_count": 3,
   "metadata": {},
   "outputs": [
    {
     "name": "stdout",
     "output_type": "stream",
     "text": [
      "Sua taxa será de: R$ 200.0\n"
     ]
    }
   ],
   "source": [
    "anoDoCarro = int (input ('Qual é o ano do seu carro?'))\n",
    "valorDoCarro = int (input ('Quanto custa o seu carro? (informe o valor sem o cifrão e vígulas. Ex: 10000)'))\n",
    "TaxaUmPorcento = (valorDoCarro/100)\n",
    "TaxaUmeMeioPorcento = (valorDoCarro/100) * float (1.5)\n",
    "if(anoDoCarro <= 1989):\n",
    "    print ('Sua taxa será de: R$', TaxaUmPorcento)\n",
    "else:\n",
    "    print ('Sua taxa será de: R$', TaxaUmeMeioPorcento)"
   ]
  }
 ],
 "metadata": {
  "kernelspec": {
   "display_name": "Python 3",
   "language": "python",
   "name": "python3"
  },
  "language_info": {
   "codemirror_mode": {
    "name": "ipython",
    "version": 3
   },
   "file_extension": ".py",
   "mimetype": "text/x-python",
   "name": "python",
   "nbconvert_exporter": "python",
   "pygments_lexer": "ipython3",
   "version": "3.12.2"
  }
 },
 "nbformat": 4,
 "nbformat_minor": 2
}
