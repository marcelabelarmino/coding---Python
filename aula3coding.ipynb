{
 "cells": [
  {
   "cell_type": "code",
   "execution_count": 2,
   "metadata": {},
   "outputs": [
    {
     "name": "stdout",
     "output_type": "stream",
     "text": [
      "False\n"
     ]
    }
   ],
   "source": [
    "numero = 10\n",
    "print (numero>0 and numero <10)\n",
    "#no AND tudo precisa estar correto"
   ]
  },
  {
   "cell_type": "code",
   "execution_count": 3,
   "metadata": {},
   "outputs": [
    {
     "name": "stdout",
     "output_type": "stream",
     "text": [
      "True\n"
     ]
    }
   ],
   "source": [
    "numero = 10\n",
    "print (numero>0 or numero <10)\n",
    "#No OR basta um estar correto"
   ]
  },
  {
   "cell_type": "code",
   "execution_count": null,
   "metadata": {},
   "outputs": [],
   "source": [
    "if():\n",
    "    print()\n",
    "else:\n",
    "    print()\n",
    "#dois pontos significa DO "
   ]
  },
  {
   "cell_type": "code",
   "execution_count": 8,
   "metadata": {},
   "outputs": [
    {
     "name": "stdout",
     "output_type": "stream",
     "text": [
      "É par!\n"
     ]
    }
   ],
   "source": [
    "numero = int(input ('Digite um número inteiro:'))\n",
    "if (numero % 2 != 0):\n",
    "    print ('É ímpar')\n",
    "else:\n",
    "    print ('É par!') \n",
    "#peça um numero e avalie se ele é par ou impar\n",
    "#porcertagem representa resto dividido\n",
    "#!= é diferente de"
   ]
  },
  {
   "cell_type": "code",
   "execution_count": 9,
   "metadata": {},
   "outputs": [
    {
     "name": "stdout",
     "output_type": "stream",
     "text": [
      "É par\n"
     ]
    }
   ],
   "source": [
    "numero = int(input ('Digite um número inteiro:'))\n",
    "if (numero % 2 == 0):\n",
    "    print ('É par')\n",
    "else:\n",
    "    print ('É ímpar!') \n",
    "#peça um numero e avalie se ele é par ou impar\n",
    "#porcertagem representa resto dividido"
   ]
  },
  {
   "cell_type": "code",
   "execution_count": 11,
   "metadata": {},
   "outputs": [
    {
     "name": "stdout",
     "output_type": "stream",
     "text": [
      "Você ganhou 10% de desconto\n"
     ]
    }
   ],
   "source": [
    "cupom = input ('Digite o cupom:')\n",
    "if (cupom == 'aula1' or cupom == 'aula2'):\n",
    "    print ('Você ganhou 10% de desconto')"
   ]
  },
  {
   "cell_type": "code",
   "execution_count": null,
   "metadata": {},
   "outputs": [],
   "source": [
    "#Comando: elif\n",
    "#Significa ELSE IF (Senão se)\n",
    "elif "
   ]
  },
  {
   "cell_type": "code",
   "execution_count": 15,
   "metadata": {},
   "outputs": [
    {
     "name": "stdout",
     "output_type": "stream",
     "text": [
      "Você recebeu 5% de desconto!\n"
     ]
    }
   ],
   "source": [
    "cupom = input ('Insira o cupom:')\n",
    "if (cupom == 'aula1'):\n",
    "    print ('Você ganhou 15% de desconto!')\n",
    "elif (cupom == 'aula2'):\n",
    "    print ('Você recebeu 10% de desconto!')\n",
    "else:\n",
    "    print ('Você recebeu 5% de desconto!')"
   ]
  },
  {
   "cell_type": "code",
   "execution_count": null,
   "metadata": {},
   "outputs": [],
   "source": []
  }
 ],
 "metadata": {
  "kernelspec": {
   "display_name": "Python 3",
   "language": "python",
   "name": "python3"
  },
  "language_info": {
   "codemirror_mode": {
    "name": "ipython",
    "version": 3
   },
   "file_extension": ".py",
   "mimetype": "text/x-python",
   "name": "python",
   "nbconvert_exporter": "python",
   "pygments_lexer": "ipython3",
   "version": "3.10.11"
  }
 },
 "nbformat": 4,
 "nbformat_minor": 2
}
